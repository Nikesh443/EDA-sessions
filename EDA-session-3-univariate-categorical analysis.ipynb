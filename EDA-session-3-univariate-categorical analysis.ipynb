{
 "cells": [
  {
   "cell_type": "code",
   "execution_count": null,
   "id": "074c0cef-4667-4622-bc88-5aacf113c72f",
   "metadata": {},
   "outputs": [],
   "source": [
    "- read the data\n",
    "\n",
    "- create the data frame\n",
    "\n",
    "- create a column\n",
    "\n",
    "- how to drop the column\n",
    "\n",
    "- shape-size\n",
    "\n",
    "- head-tail\n",
    "\n",
    "- take-loc-iloc\n",
    "\n",
    "- info-len\n",
    "\n",
    "- is null"
   ]
  },
  {
   "cell_type": "markdown",
   "id": "0e56ee4a-1390-4694-8c0c-39fd5b576fd1",
   "metadata": {},
   "source": [
    "$step-1$\n"
   ]
  },
  {
   "cell_type": "code",
   "execution_count": 1,
   "id": "05580636-baee-4875-afec-9f940c9f5c92",
   "metadata": {},
   "outputs": [],
   "source": [
    "# Import all the packages\n",
    "import numpy as np\n",
    "import pandas as pd\n",
    "import matplotlib.pyplot as plt\n",
    "import seaborn as sns"
   ]
  },
  {
   "cell_type": "markdown",
   "id": "34db80d4-6557-414a-b238-c22cbf948a6f",
   "metadata": {},
   "source": [
    "$ step-2$"
   ]
  },
  {
   "cell_type": "code",
   "execution_count": 3,
   "id": "32f34dac-2acd-49bf-9324-537de9510a32",
   "metadata": {},
   "outputs": [],
   "source": [
    "# Read the data \n",
    "file_path=\"C:\\\\Users\\\\pc\\\\Documents\\\\Visadataset.csv\"\n",
    "visa_df=pd.read_csv(file_path)\n"
   ]
  },
  {
   "cell_type": "code",
   "execution_count": 5,
   "id": "9b8e62e5-3439-4a3f-a1fe-3a2b565bfb07",
   "metadata": {},
   "outputs": [
    {
     "data": {
      "text/html": [
       "<div>\n",
       "<style scoped>\n",
       "    .dataframe tbody tr th:only-of-type {\n",
       "        vertical-align: middle;\n",
       "    }\n",
       "\n",
       "    .dataframe tbody tr th {\n",
       "        vertical-align: top;\n",
       "    }\n",
       "\n",
       "    .dataframe thead th {\n",
       "        text-align: right;\n",
       "    }\n",
       "</style>\n",
       "<table border=\"1\" class=\"dataframe\">\n",
       "  <thead>\n",
       "    <tr style=\"text-align: right;\">\n",
       "      <th></th>\n",
       "      <th>case_id</th>\n",
       "      <th>continent</th>\n",
       "      <th>education_of_employee</th>\n",
       "      <th>has_job_experience</th>\n",
       "      <th>requires_job_training</th>\n",
       "      <th>no_of_employees</th>\n",
       "      <th>yr_of_estab</th>\n",
       "      <th>region_of_employment</th>\n",
       "      <th>prevailing_wage</th>\n",
       "      <th>unit_of_wage</th>\n",
       "      <th>full_time_position</th>\n",
       "      <th>case_status</th>\n",
       "    </tr>\n",
       "  </thead>\n",
       "  <tbody>\n",
       "    <tr>\n",
       "      <th>0</th>\n",
       "      <td>EZYV01</td>\n",
       "      <td>Asia</td>\n",
       "      <td>High School</td>\n",
       "      <td>N</td>\n",
       "      <td>N</td>\n",
       "      <td>14513</td>\n",
       "      <td>2007</td>\n",
       "      <td>West</td>\n",
       "      <td>592.2029</td>\n",
       "      <td>Hour</td>\n",
       "      <td>Y</td>\n",
       "      <td>Denied</td>\n",
       "    </tr>\n",
       "    <tr>\n",
       "      <th>1</th>\n",
       "      <td>EZYV02</td>\n",
       "      <td>Asia</td>\n",
       "      <td>Master's</td>\n",
       "      <td>Y</td>\n",
       "      <td>N</td>\n",
       "      <td>2412</td>\n",
       "      <td>2002</td>\n",
       "      <td>Northeast</td>\n",
       "      <td>83425.6500</td>\n",
       "      <td>Year</td>\n",
       "      <td>Y</td>\n",
       "      <td>Certified</td>\n",
       "    </tr>\n",
       "    <tr>\n",
       "      <th>2</th>\n",
       "      <td>EZYV03</td>\n",
       "      <td>Asia</td>\n",
       "      <td>Bachelor's</td>\n",
       "      <td>N</td>\n",
       "      <td>Y</td>\n",
       "      <td>44444</td>\n",
       "      <td>2008</td>\n",
       "      <td>West</td>\n",
       "      <td>122996.8600</td>\n",
       "      <td>Year</td>\n",
       "      <td>Y</td>\n",
       "      <td>Denied</td>\n",
       "    </tr>\n",
       "    <tr>\n",
       "      <th>3</th>\n",
       "      <td>EZYV04</td>\n",
       "      <td>Asia</td>\n",
       "      <td>Bachelor's</td>\n",
       "      <td>N</td>\n",
       "      <td>N</td>\n",
       "      <td>98</td>\n",
       "      <td>1897</td>\n",
       "      <td>West</td>\n",
       "      <td>83434.0300</td>\n",
       "      <td>Year</td>\n",
       "      <td>Y</td>\n",
       "      <td>Denied</td>\n",
       "    </tr>\n",
       "    <tr>\n",
       "      <th>4</th>\n",
       "      <td>EZYV05</td>\n",
       "      <td>Africa</td>\n",
       "      <td>Master's</td>\n",
       "      <td>Y</td>\n",
       "      <td>N</td>\n",
       "      <td>1082</td>\n",
       "      <td>2005</td>\n",
       "      <td>South</td>\n",
       "      <td>149907.3900</td>\n",
       "      <td>Year</td>\n",
       "      <td>Y</td>\n",
       "      <td>Certified</td>\n",
       "    </tr>\n",
       "    <tr>\n",
       "      <th>...</th>\n",
       "      <td>...</td>\n",
       "      <td>...</td>\n",
       "      <td>...</td>\n",
       "      <td>...</td>\n",
       "      <td>...</td>\n",
       "      <td>...</td>\n",
       "      <td>...</td>\n",
       "      <td>...</td>\n",
       "      <td>...</td>\n",
       "      <td>...</td>\n",
       "      <td>...</td>\n",
       "      <td>...</td>\n",
       "    </tr>\n",
       "    <tr>\n",
       "      <th>25475</th>\n",
       "      <td>EZYV25476</td>\n",
       "      <td>Asia</td>\n",
       "      <td>Bachelor's</td>\n",
       "      <td>Y</td>\n",
       "      <td>Y</td>\n",
       "      <td>2601</td>\n",
       "      <td>2008</td>\n",
       "      <td>South</td>\n",
       "      <td>77092.5700</td>\n",
       "      <td>Year</td>\n",
       "      <td>Y</td>\n",
       "      <td>Certified</td>\n",
       "    </tr>\n",
       "    <tr>\n",
       "      <th>25476</th>\n",
       "      <td>EZYV25477</td>\n",
       "      <td>Asia</td>\n",
       "      <td>High School</td>\n",
       "      <td>Y</td>\n",
       "      <td>N</td>\n",
       "      <td>3274</td>\n",
       "      <td>2006</td>\n",
       "      <td>Northeast</td>\n",
       "      <td>279174.7900</td>\n",
       "      <td>Year</td>\n",
       "      <td>Y</td>\n",
       "      <td>Certified</td>\n",
       "    </tr>\n",
       "    <tr>\n",
       "      <th>25477</th>\n",
       "      <td>EZYV25478</td>\n",
       "      <td>Asia</td>\n",
       "      <td>Master's</td>\n",
       "      <td>Y</td>\n",
       "      <td>N</td>\n",
       "      <td>1121</td>\n",
       "      <td>1910</td>\n",
       "      <td>South</td>\n",
       "      <td>146298.8500</td>\n",
       "      <td>Year</td>\n",
       "      <td>N</td>\n",
       "      <td>Certified</td>\n",
       "    </tr>\n",
       "    <tr>\n",
       "      <th>25478</th>\n",
       "      <td>EZYV25479</td>\n",
       "      <td>Asia</td>\n",
       "      <td>Master's</td>\n",
       "      <td>Y</td>\n",
       "      <td>Y</td>\n",
       "      <td>1918</td>\n",
       "      <td>1887</td>\n",
       "      <td>West</td>\n",
       "      <td>86154.7700</td>\n",
       "      <td>Year</td>\n",
       "      <td>Y</td>\n",
       "      <td>Certified</td>\n",
       "    </tr>\n",
       "    <tr>\n",
       "      <th>25479</th>\n",
       "      <td>EZYV25480</td>\n",
       "      <td>Asia</td>\n",
       "      <td>Bachelor's</td>\n",
       "      <td>Y</td>\n",
       "      <td>N</td>\n",
       "      <td>3195</td>\n",
       "      <td>1960</td>\n",
       "      <td>Midwest</td>\n",
       "      <td>70876.9100</td>\n",
       "      <td>Year</td>\n",
       "      <td>Y</td>\n",
       "      <td>Certified</td>\n",
       "    </tr>\n",
       "  </tbody>\n",
       "</table>\n",
       "<p>25480 rows × 12 columns</p>\n",
       "</div>"
      ],
      "text/plain": [
       "         case_id continent education_of_employee has_job_experience  \\\n",
       "0         EZYV01      Asia           High School                  N   \n",
       "1         EZYV02      Asia              Master's                  Y   \n",
       "2         EZYV03      Asia            Bachelor's                  N   \n",
       "3         EZYV04      Asia            Bachelor's                  N   \n",
       "4         EZYV05    Africa              Master's                  Y   \n",
       "...          ...       ...                   ...                ...   \n",
       "25475  EZYV25476      Asia            Bachelor's                  Y   \n",
       "25476  EZYV25477      Asia           High School                  Y   \n",
       "25477  EZYV25478      Asia              Master's                  Y   \n",
       "25478  EZYV25479      Asia              Master's                  Y   \n",
       "25479  EZYV25480      Asia            Bachelor's                  Y   \n",
       "\n",
       "      requires_job_training  no_of_employees  yr_of_estab  \\\n",
       "0                         N            14513         2007   \n",
       "1                         N             2412         2002   \n",
       "2                         Y            44444         2008   \n",
       "3                         N               98         1897   \n",
       "4                         N             1082         2005   \n",
       "...                     ...              ...          ...   \n",
       "25475                     Y             2601         2008   \n",
       "25476                     N             3274         2006   \n",
       "25477                     N             1121         1910   \n",
       "25478                     Y             1918         1887   \n",
       "25479                     N             3195         1960   \n",
       "\n",
       "      region_of_employment  prevailing_wage unit_of_wage full_time_position  \\\n",
       "0                     West         592.2029         Hour                  Y   \n",
       "1                Northeast       83425.6500         Year                  Y   \n",
       "2                     West      122996.8600         Year                  Y   \n",
       "3                     West       83434.0300         Year                  Y   \n",
       "4                    South      149907.3900         Year                  Y   \n",
       "...                    ...              ...          ...                ...   \n",
       "25475                South       77092.5700         Year                  Y   \n",
       "25476            Northeast      279174.7900         Year                  Y   \n",
       "25477                South      146298.8500         Year                  N   \n",
       "25478                 West       86154.7700         Year                  Y   \n",
       "25479              Midwest       70876.9100         Year                  Y   \n",
       "\n",
       "      case_status  \n",
       "0          Denied  \n",
       "1       Certified  \n",
       "2          Denied  \n",
       "3          Denied  \n",
       "4       Certified  \n",
       "...           ...  \n",
       "25475   Certified  \n",
       "25476   Certified  \n",
       "25477   Certified  \n",
       "25478   Certified  \n",
       "25479   Certified  \n",
       "\n",
       "[25480 rows x 12 columns]"
      ]
     },
     "execution_count": 5,
     "metadata": {},
     "output_type": "execute_result"
    }
   ],
   "source": [
    "visa_df"
   ]
  },
  {
   "cell_type": "code",
   "execution_count": 11,
   "id": "5015c1da-04b7-403d-92a3-ed0e20191a8d",
   "metadata": {},
   "outputs": [
    {
     "data": {
      "text/html": [
       "<div>\n",
       "<style scoped>\n",
       "    .dataframe tbody tr th:only-of-type {\n",
       "        vertical-align: middle;\n",
       "    }\n",
       "\n",
       "    .dataframe tbody tr th {\n",
       "        vertical-align: top;\n",
       "    }\n",
       "\n",
       "    .dataframe thead th {\n",
       "        text-align: right;\n",
       "    }\n",
       "</style>\n",
       "<table border=\"1\" class=\"dataframe\">\n",
       "  <thead>\n",
       "    <tr style=\"text-align: right;\">\n",
       "      <th></th>\n",
       "      <th>case_id</th>\n",
       "      <th>continent</th>\n",
       "      <th>education_of_employee</th>\n",
       "      <th>has_job_experience</th>\n",
       "      <th>requires_job_training</th>\n",
       "      <th>no_of_employees</th>\n",
       "      <th>yr_of_estab</th>\n",
       "      <th>region_of_employment</th>\n",
       "      <th>prevailing_wage</th>\n",
       "      <th>unit_of_wage</th>\n",
       "      <th>full_time_position</th>\n",
       "      <th>case_status</th>\n",
       "    </tr>\n",
       "  </thead>\n",
       "  <tbody>\n",
       "    <tr>\n",
       "      <th>0</th>\n",
       "      <td>EZYV01</td>\n",
       "      <td>Asia</td>\n",
       "      <td>High School</td>\n",
       "      <td>N</td>\n",
       "      <td>N</td>\n",
       "      <td>14513</td>\n",
       "      <td>2007</td>\n",
       "      <td>West</td>\n",
       "      <td>592.2029</td>\n",
       "      <td>Hour</td>\n",
       "      <td>Y</td>\n",
       "      <td>Denied</td>\n",
       "    </tr>\n",
       "    <tr>\n",
       "      <th>1</th>\n",
       "      <td>EZYV02</td>\n",
       "      <td>Asia</td>\n",
       "      <td>Master's</td>\n",
       "      <td>Y</td>\n",
       "      <td>N</td>\n",
       "      <td>2412</td>\n",
       "      <td>2002</td>\n",
       "      <td>Northeast</td>\n",
       "      <td>83425.6500</td>\n",
       "      <td>Year</td>\n",
       "      <td>Y</td>\n",
       "      <td>Certified</td>\n",
       "    </tr>\n",
       "    <tr>\n",
       "      <th>2</th>\n",
       "      <td>EZYV03</td>\n",
       "      <td>Asia</td>\n",
       "      <td>Bachelor's</td>\n",
       "      <td>N</td>\n",
       "      <td>Y</td>\n",
       "      <td>44444</td>\n",
       "      <td>2008</td>\n",
       "      <td>West</td>\n",
       "      <td>122996.8600</td>\n",
       "      <td>Year</td>\n",
       "      <td>Y</td>\n",
       "      <td>Denied</td>\n",
       "    </tr>\n",
       "    <tr>\n",
       "      <th>3</th>\n",
       "      <td>EZYV04</td>\n",
       "      <td>Asia</td>\n",
       "      <td>Bachelor's</td>\n",
       "      <td>N</td>\n",
       "      <td>N</td>\n",
       "      <td>98</td>\n",
       "      <td>1897</td>\n",
       "      <td>West</td>\n",
       "      <td>83434.0300</td>\n",
       "      <td>Year</td>\n",
       "      <td>Y</td>\n",
       "      <td>Denied</td>\n",
       "    </tr>\n",
       "    <tr>\n",
       "      <th>4</th>\n",
       "      <td>EZYV05</td>\n",
       "      <td>Africa</td>\n",
       "      <td>Master's</td>\n",
       "      <td>Y</td>\n",
       "      <td>N</td>\n",
       "      <td>1082</td>\n",
       "      <td>2005</td>\n",
       "      <td>South</td>\n",
       "      <td>149907.3900</td>\n",
       "      <td>Year</td>\n",
       "      <td>Y</td>\n",
       "      <td>Certified</td>\n",
       "    </tr>\n",
       "  </tbody>\n",
       "</table>\n",
       "</div>"
      ],
      "text/plain": [
       "  case_id continent education_of_employee has_job_experience  \\\n",
       "0  EZYV01      Asia           High School                  N   \n",
       "1  EZYV02      Asia              Master's                  Y   \n",
       "2  EZYV03      Asia            Bachelor's                  N   \n",
       "3  EZYV04      Asia            Bachelor's                  N   \n",
       "4  EZYV05    Africa              Master's                  Y   \n",
       "\n",
       "  requires_job_training  no_of_employees  yr_of_estab region_of_employment  \\\n",
       "0                     N            14513         2007                 West   \n",
       "1                     N             2412         2002            Northeast   \n",
       "2                     Y            44444         2008                 West   \n",
       "3                     N               98         1897                 West   \n",
       "4                     N             1082         2005                South   \n",
       "\n",
       "   prevailing_wage unit_of_wage full_time_position case_status  \n",
       "0         592.2029         Hour                  Y      Denied  \n",
       "1       83425.6500         Year                  Y   Certified  \n",
       "2      122996.8600         Year                  Y      Denied  \n",
       "3       83434.0300         Year                  Y      Denied  \n",
       "4      149907.3900         Year                  Y   Certified  "
      ]
     },
     "execution_count": 11,
     "metadata": {},
     "output_type": "execute_result"
    }
   ],
   "source": [
    "visa_df.head()"
   ]
  },
  {
   "cell_type": "markdown",
   "id": "2175f776-80ef-4bbc-b42a-5e16592a09bb",
   "metadata": {},
   "source": [
    "## step-3: Read a column"
   ]
  },
  {
   "cell_type": "code",
   "execution_count": 14,
   "id": "319b88a5-ad7f-4f94-bafd-0582e70038d4",
   "metadata": {},
   "outputs": [
    {
     "data": {
      "text/plain": [
       "Index(['case_id', 'continent', 'education_of_employee', 'has_job_experience',\n",
       "       'requires_job_training', 'no_of_employees', 'yr_of_estab',\n",
       "       'region_of_employment', 'prevailing_wage', 'unit_of_wage',\n",
       "       'full_time_position', 'case_status'],\n",
       "      dtype='object')"
      ]
     },
     "execution_count": 14,
     "metadata": {},
     "output_type": "execute_result"
    }
   ],
   "source": [
    "visa_df.columns"
   ]
  },
  {
   "cell_type": "code",
   "execution_count": 16,
   "id": "191a85ed-cb70-4670-ad3c-243678584ba5",
   "metadata": {},
   "outputs": [
    {
     "data": {
      "text/plain": [
       "0          Asia\n",
       "1          Asia\n",
       "2          Asia\n",
       "3          Asia\n",
       "4        Africa\n",
       "          ...  \n",
       "25475      Asia\n",
       "25476      Asia\n",
       "25477      Asia\n",
       "25478      Asia\n",
       "25479      Asia\n",
       "Name: continent, Length: 25480, dtype: object"
      ]
     },
     "execution_count": 16,
     "metadata": {},
     "output_type": "execute_result"
    }
   ],
   "source": [
    "visa_df['continent']"
   ]
  },
  {
   "cell_type": "code",
   "execution_count": 24,
   "id": "084f7e24-b602-49f8-bee0-dcadb0e07678",
   "metadata": {},
   "outputs": [
    {
     "data": {
      "text/html": [
       "<div>\n",
       "<style scoped>\n",
       "    .dataframe tbody tr th:only-of-type {\n",
       "        vertical-align: middle;\n",
       "    }\n",
       "\n",
       "    .dataframe tbody tr th {\n",
       "        vertical-align: top;\n",
       "    }\n",
       "\n",
       "    .dataframe thead th {\n",
       "        text-align: right;\n",
       "    }\n",
       "</style>\n",
       "<table border=\"1\" class=\"dataframe\">\n",
       "  <thead>\n",
       "    <tr style=\"text-align: right;\">\n",
       "      <th></th>\n",
       "      <th>continent</th>\n",
       "    </tr>\n",
       "  </thead>\n",
       "  <tbody>\n",
       "    <tr>\n",
       "      <th>0</th>\n",
       "      <td>Asia</td>\n",
       "    </tr>\n",
       "    <tr>\n",
       "      <th>1</th>\n",
       "      <td>Asia</td>\n",
       "    </tr>\n",
       "    <tr>\n",
       "      <th>2</th>\n",
       "      <td>Asia</td>\n",
       "    </tr>\n",
       "    <tr>\n",
       "      <th>3</th>\n",
       "      <td>Asia</td>\n",
       "    </tr>\n",
       "    <tr>\n",
       "      <th>4</th>\n",
       "      <td>Africa</td>\n",
       "    </tr>\n",
       "    <tr>\n",
       "      <th>...</th>\n",
       "      <td>...</td>\n",
       "    </tr>\n",
       "    <tr>\n",
       "      <th>25475</th>\n",
       "      <td>Asia</td>\n",
       "    </tr>\n",
       "    <tr>\n",
       "      <th>25476</th>\n",
       "      <td>Asia</td>\n",
       "    </tr>\n",
       "    <tr>\n",
       "      <th>25477</th>\n",
       "      <td>Asia</td>\n",
       "    </tr>\n",
       "    <tr>\n",
       "      <th>25478</th>\n",
       "      <td>Asia</td>\n",
       "    </tr>\n",
       "    <tr>\n",
       "      <th>25479</th>\n",
       "      <td>Asia</td>\n",
       "    </tr>\n",
       "  </tbody>\n",
       "</table>\n",
       "<p>25480 rows × 1 columns</p>\n",
       "</div>"
      ],
      "text/plain": [
       "      continent\n",
       "0          Asia\n",
       "1          Asia\n",
       "2          Asia\n",
       "3          Asia\n",
       "4        Africa\n",
       "...         ...\n",
       "25475      Asia\n",
       "25476      Asia\n",
       "25477      Asia\n",
       "25478      Asia\n",
       "25479      Asia\n",
       "\n",
       "[25480 rows x 1 columns]"
      ]
     },
     "execution_count": 24,
     "metadata": {},
     "output_type": "execute_result"
    }
   ],
   "source": [
    "cols=['continent']\n",
    "visa_df[cols]"
   ]
  },
  {
   "cell_type": "code",
   "execution_count": 26,
   "id": "3e616d7d-a31e-4d8c-aa32-a9da3aef2dbc",
   "metadata": {},
   "outputs": [
    {
     "data": {
      "text/plain": [
       "pandas.core.series.Series"
      ]
     },
     "execution_count": 26,
     "metadata": {},
     "output_type": "execute_result"
    }
   ],
   "source": [
    "type(visa_df['continent'])"
   ]
  },
  {
   "cell_type": "code",
   "execution_count": 28,
   "id": "882b08f6-d7d9-4d20-848a-dc4d1265100e",
   "metadata": {},
   "outputs": [
    {
     "data": {
      "text/plain": [
       "pandas.core.frame.DataFrame"
      ]
     },
     "execution_count": 28,
     "metadata": {},
     "output_type": "execute_result"
    }
   ],
   "source": [
    "type(visa_df[['continent']])"
   ]
  },
  {
   "cell_type": "code",
   "execution_count": 30,
   "id": "79a13731-be16-4bc1-acee-58e1f08d68c5",
   "metadata": {},
   "outputs": [
    {
     "data": {
      "text/plain": [
       "0          Asia\n",
       "1          Asia\n",
       "2          Asia\n",
       "3          Asia\n",
       "4        Africa\n",
       "          ...  \n",
       "25475      Asia\n",
       "25476      Asia\n",
       "25477      Asia\n",
       "25478      Asia\n",
       "25479      Asia\n",
       "Name: continent, Length: 25480, dtype: object"
      ]
     },
     "execution_count": 30,
     "metadata": {},
     "output_type": "execute_result"
    }
   ],
   "source": [
    "# another way\n",
    "visa_df.continent"
   ]
  },
  {
   "cell_type": "code",
   "execution_count": null,
   "id": "0cfa8033-c9ac-4ae9-8b7c-8695daa78b87",
   "metadata": {},
   "outputs": [],
   "source": [
    "#visa_df['continent']\n",
    "#visa_df[['continent']]\n",
    "#visa_df.continent"
   ]
  },
  {
   "cell_type": "code",
   "execution_count": null,
   "id": "60238c61-6f07-4bbf-95c6-c2ed07b2cb42",
   "metadata": {},
   "outputs": [],
   "source": [
    "# Two colums at a time"
   ]
  },
  {
   "cell_type": "code",
   "execution_count": 35,
   "id": "e803a9d6-3a25-4e89-acd4-a24a2297404c",
   "metadata": {},
   "outputs": [
    {
     "data": {
      "text/html": [
       "<div>\n",
       "<style scoped>\n",
       "    .dataframe tbody tr th:only-of-type {\n",
       "        vertical-align: middle;\n",
       "    }\n",
       "\n",
       "    .dataframe tbody tr th {\n",
       "        vertical-align: top;\n",
       "    }\n",
       "\n",
       "    .dataframe thead th {\n",
       "        text-align: right;\n",
       "    }\n",
       "</style>\n",
       "<table border=\"1\" class=\"dataframe\">\n",
       "  <thead>\n",
       "    <tr style=\"text-align: right;\">\n",
       "      <th></th>\n",
       "      <th>continent</th>\n",
       "      <th>case_id</th>\n",
       "    </tr>\n",
       "  </thead>\n",
       "  <tbody>\n",
       "    <tr>\n",
       "      <th>0</th>\n",
       "      <td>Asia</td>\n",
       "      <td>EZYV01</td>\n",
       "    </tr>\n",
       "    <tr>\n",
       "      <th>1</th>\n",
       "      <td>Asia</td>\n",
       "      <td>EZYV02</td>\n",
       "    </tr>\n",
       "    <tr>\n",
       "      <th>2</th>\n",
       "      <td>Asia</td>\n",
       "      <td>EZYV03</td>\n",
       "    </tr>\n",
       "    <tr>\n",
       "      <th>3</th>\n",
       "      <td>Asia</td>\n",
       "      <td>EZYV04</td>\n",
       "    </tr>\n",
       "    <tr>\n",
       "      <th>4</th>\n",
       "      <td>Africa</td>\n",
       "      <td>EZYV05</td>\n",
       "    </tr>\n",
       "    <tr>\n",
       "      <th>...</th>\n",
       "      <td>...</td>\n",
       "      <td>...</td>\n",
       "    </tr>\n",
       "    <tr>\n",
       "      <th>25475</th>\n",
       "      <td>Asia</td>\n",
       "      <td>EZYV25476</td>\n",
       "    </tr>\n",
       "    <tr>\n",
       "      <th>25476</th>\n",
       "      <td>Asia</td>\n",
       "      <td>EZYV25477</td>\n",
       "    </tr>\n",
       "    <tr>\n",
       "      <th>25477</th>\n",
       "      <td>Asia</td>\n",
       "      <td>EZYV25478</td>\n",
       "    </tr>\n",
       "    <tr>\n",
       "      <th>25478</th>\n",
       "      <td>Asia</td>\n",
       "      <td>EZYV25479</td>\n",
       "    </tr>\n",
       "    <tr>\n",
       "      <th>25479</th>\n",
       "      <td>Asia</td>\n",
       "      <td>EZYV25480</td>\n",
       "    </tr>\n",
       "  </tbody>\n",
       "</table>\n",
       "<p>25480 rows × 2 columns</p>\n",
       "</div>"
      ],
      "text/plain": [
       "      continent    case_id\n",
       "0          Asia     EZYV01\n",
       "1          Asia     EZYV02\n",
       "2          Asia     EZYV03\n",
       "3          Asia     EZYV04\n",
       "4        Africa     EZYV05\n",
       "...         ...        ...\n",
       "25475      Asia  EZYV25476\n",
       "25476      Asia  EZYV25477\n",
       "25477      Asia  EZYV25478\n",
       "25478      Asia  EZYV25479\n",
       "25479      Asia  EZYV25480\n",
       "\n",
       "[25480 rows x 2 columns]"
      ]
     },
     "execution_count": 35,
     "metadata": {},
     "output_type": "execute_result"
    }
   ],
   "source": [
    "cols=['continent','case_id']\n",
    "visa_df[cols]"
   ]
  },
  {
   "cell_type": "markdown",
   "id": "7496212c-adb1-4fab-8627-344e4ab648a8",
   "metadata": {},
   "source": [
    "$unique$"
   ]
  },
  {
   "cell_type": "code",
   "execution_count": 59,
   "id": "52f0badc-0f1a-4f57-b20a-9406f6a8a43a",
   "metadata": {},
   "outputs": [
    {
     "data": {
      "text/plain": [
       "array(['Asia', 'Africa', 'North America', 'Europe', 'South America',\n",
       "       'Oceania'], dtype=object)"
      ]
     },
     "execution_count": 59,
     "metadata": {},
     "output_type": "execute_result"
    }
   ],
   "source": [
    "# first read the column\n",
    "# then apply unique\n",
    "# dont apply unique operation for dataframe: [[]]\n",
    "# apply only for series: []\n",
    "visa_df['continent'].unique()"
   ]
  },
  {
   "cell_type": "code",
   "execution_count": 57,
   "id": "edd9f8e6-1adb-4088-a4f4-7ffedbd10213",
   "metadata": {},
   "outputs": [
    {
     "data": {
      "text/plain": [
       "25480"
      ]
     },
     "execution_count": 57,
     "metadata": {},
     "output_type": "execute_result"
    }
   ],
   "source": [
    "len(visa_df['continent'])"
   ]
  },
  {
   "cell_type": "markdown",
   "id": "7eacb8bd-4200-4503-8c91-75b2361f6dc4",
   "metadata": {},
   "source": [
    "$nunique$"
   ]
  },
  {
   "cell_type": "code",
   "execution_count": 51,
   "id": "95dbf091-45d2-4c21-8332-1211228bba01",
   "metadata": {},
   "outputs": [
    {
     "data": {
      "text/plain": [
       "6"
      ]
     },
     "execution_count": 51,
     "metadata": {},
     "output_type": "execute_result"
    }
   ],
   "source": [
    "# No of unique lables\n",
    "# Same as len\n",
    "visa_df['continent'].nunique()"
   ]
  },
  {
   "cell_type": "code",
   "execution_count": null,
   "id": "a6d865bf-9a80-4a78-87be-69f775193f92",
   "metadata": {},
   "outputs": [],
   "source": [
    "# We read continent column\n",
    "# We understood there are 6 unique labels are there\n",
    "# these 6 uniques labels repeating and total 25480 observations\n",
    "# how many asia are there\n",
    "# how many africa are there"
   ]
  },
  {
   "cell_type": "code",
   "execution_count": 61,
   "id": "dd15a820-47fb-424d-9efa-b72a9a1dcc2b",
   "metadata": {},
   "outputs": [
    {
     "data": {
      "text/plain": [
       "0         True\n",
       "1         True\n",
       "2         True\n",
       "3         True\n",
       "4        False\n",
       "         ...  \n",
       "25475     True\n",
       "25476     True\n",
       "25477     True\n",
       "25478     True\n",
       "25479     True\n",
       "Name: continent, Length: 25480, dtype: bool"
      ]
     },
     "execution_count": 61,
     "metadata": {},
     "output_type": "execute_result"
    }
   ],
   "source": [
    "visa_df['continent']=='Asia'\n",
    "# do you want to know how many true\n",
    "# how many rows are satisfying condition\n",
    "# how many observations are having continent as asia"
   ]
  },
  {
   "cell_type": "code",
   "execution_count": 70,
   "id": "7c92f7b3-b344-4ebe-b988-b67fff37dfb5",
   "metadata": {},
   "outputs": [
    {
     "data": {
      "text/html": [
       "<div>\n",
       "<style scoped>\n",
       "    .dataframe tbody tr th:only-of-type {\n",
       "        vertical-align: middle;\n",
       "    }\n",
       "\n",
       "    .dataframe tbody tr th {\n",
       "        vertical-align: top;\n",
       "    }\n",
       "\n",
       "    .dataframe thead th {\n",
       "        text-align: right;\n",
       "    }\n",
       "</style>\n",
       "<table border=\"1\" class=\"dataframe\">\n",
       "  <thead>\n",
       "    <tr style=\"text-align: right;\">\n",
       "      <th></th>\n",
       "      <th>case_id</th>\n",
       "      <th>continent</th>\n",
       "      <th>education_of_employee</th>\n",
       "      <th>has_job_experience</th>\n",
       "      <th>requires_job_training</th>\n",
       "      <th>no_of_employees</th>\n",
       "      <th>yr_of_estab</th>\n",
       "      <th>region_of_employment</th>\n",
       "      <th>prevailing_wage</th>\n",
       "      <th>unit_of_wage</th>\n",
       "      <th>full_time_position</th>\n",
       "      <th>case_status</th>\n",
       "    </tr>\n",
       "  </thead>\n",
       "  <tbody>\n",
       "    <tr>\n",
       "      <th>0</th>\n",
       "      <td>EZYV01</td>\n",
       "      <td>Asia</td>\n",
       "      <td>High School</td>\n",
       "      <td>N</td>\n",
       "      <td>N</td>\n",
       "      <td>14513</td>\n",
       "      <td>2007</td>\n",
       "      <td>West</td>\n",
       "      <td>592.2029</td>\n",
       "      <td>Hour</td>\n",
       "      <td>Y</td>\n",
       "      <td>Denied</td>\n",
       "    </tr>\n",
       "    <tr>\n",
       "      <th>1</th>\n",
       "      <td>EZYV02</td>\n",
       "      <td>Asia</td>\n",
       "      <td>Master's</td>\n",
       "      <td>Y</td>\n",
       "      <td>N</td>\n",
       "      <td>2412</td>\n",
       "      <td>2002</td>\n",
       "      <td>Northeast</td>\n",
       "      <td>83425.6500</td>\n",
       "      <td>Year</td>\n",
       "      <td>Y</td>\n",
       "      <td>Certified</td>\n",
       "    </tr>\n",
       "    <tr>\n",
       "      <th>2</th>\n",
       "      <td>EZYV03</td>\n",
       "      <td>Asia</td>\n",
       "      <td>Bachelor's</td>\n",
       "      <td>N</td>\n",
       "      <td>Y</td>\n",
       "      <td>44444</td>\n",
       "      <td>2008</td>\n",
       "      <td>West</td>\n",
       "      <td>122996.8600</td>\n",
       "      <td>Year</td>\n",
       "      <td>Y</td>\n",
       "      <td>Denied</td>\n",
       "    </tr>\n",
       "    <tr>\n",
       "      <th>3</th>\n",
       "      <td>EZYV04</td>\n",
       "      <td>Asia</td>\n",
       "      <td>Bachelor's</td>\n",
       "      <td>N</td>\n",
       "      <td>N</td>\n",
       "      <td>98</td>\n",
       "      <td>1897</td>\n",
       "      <td>West</td>\n",
       "      <td>83434.0300</td>\n",
       "      <td>Year</td>\n",
       "      <td>Y</td>\n",
       "      <td>Denied</td>\n",
       "    </tr>\n",
       "    <tr>\n",
       "      <th>5</th>\n",
       "      <td>EZYV06</td>\n",
       "      <td>Asia</td>\n",
       "      <td>Master's</td>\n",
       "      <td>Y</td>\n",
       "      <td>N</td>\n",
       "      <td>2339</td>\n",
       "      <td>2012</td>\n",
       "      <td>South</td>\n",
       "      <td>78252.1400</td>\n",
       "      <td>Year</td>\n",
       "      <td>Y</td>\n",
       "      <td>Certified</td>\n",
       "    </tr>\n",
       "    <tr>\n",
       "      <th>...</th>\n",
       "      <td>...</td>\n",
       "      <td>...</td>\n",
       "      <td>...</td>\n",
       "      <td>...</td>\n",
       "      <td>...</td>\n",
       "      <td>...</td>\n",
       "      <td>...</td>\n",
       "      <td>...</td>\n",
       "      <td>...</td>\n",
       "      <td>...</td>\n",
       "      <td>...</td>\n",
       "      <td>...</td>\n",
       "    </tr>\n",
       "    <tr>\n",
       "      <th>25475</th>\n",
       "      <td>EZYV25476</td>\n",
       "      <td>Asia</td>\n",
       "      <td>Bachelor's</td>\n",
       "      <td>Y</td>\n",
       "      <td>Y</td>\n",
       "      <td>2601</td>\n",
       "      <td>2008</td>\n",
       "      <td>South</td>\n",
       "      <td>77092.5700</td>\n",
       "      <td>Year</td>\n",
       "      <td>Y</td>\n",
       "      <td>Certified</td>\n",
       "    </tr>\n",
       "    <tr>\n",
       "      <th>25476</th>\n",
       "      <td>EZYV25477</td>\n",
       "      <td>Asia</td>\n",
       "      <td>High School</td>\n",
       "      <td>Y</td>\n",
       "      <td>N</td>\n",
       "      <td>3274</td>\n",
       "      <td>2006</td>\n",
       "      <td>Northeast</td>\n",
       "      <td>279174.7900</td>\n",
       "      <td>Year</td>\n",
       "      <td>Y</td>\n",
       "      <td>Certified</td>\n",
       "    </tr>\n",
       "    <tr>\n",
       "      <th>25477</th>\n",
       "      <td>EZYV25478</td>\n",
       "      <td>Asia</td>\n",
       "      <td>Master's</td>\n",
       "      <td>Y</td>\n",
       "      <td>N</td>\n",
       "      <td>1121</td>\n",
       "      <td>1910</td>\n",
       "      <td>South</td>\n",
       "      <td>146298.8500</td>\n",
       "      <td>Year</td>\n",
       "      <td>N</td>\n",
       "      <td>Certified</td>\n",
       "    </tr>\n",
       "    <tr>\n",
       "      <th>25478</th>\n",
       "      <td>EZYV25479</td>\n",
       "      <td>Asia</td>\n",
       "      <td>Master's</td>\n",
       "      <td>Y</td>\n",
       "      <td>Y</td>\n",
       "      <td>1918</td>\n",
       "      <td>1887</td>\n",
       "      <td>West</td>\n",
       "      <td>86154.7700</td>\n",
       "      <td>Year</td>\n",
       "      <td>Y</td>\n",
       "      <td>Certified</td>\n",
       "    </tr>\n",
       "    <tr>\n",
       "      <th>25479</th>\n",
       "      <td>EZYV25480</td>\n",
       "      <td>Asia</td>\n",
       "      <td>Bachelor's</td>\n",
       "      <td>Y</td>\n",
       "      <td>N</td>\n",
       "      <td>3195</td>\n",
       "      <td>1960</td>\n",
       "      <td>Midwest</td>\n",
       "      <td>70876.9100</td>\n",
       "      <td>Year</td>\n",
       "      <td>Y</td>\n",
       "      <td>Certified</td>\n",
       "    </tr>\n",
       "  </tbody>\n",
       "</table>\n",
       "<p>16861 rows × 12 columns</p>\n",
       "</div>"
      ],
      "text/plain": [
       "         case_id continent education_of_employee has_job_experience  \\\n",
       "0         EZYV01      Asia           High School                  N   \n",
       "1         EZYV02      Asia              Master's                  Y   \n",
       "2         EZYV03      Asia            Bachelor's                  N   \n",
       "3         EZYV04      Asia            Bachelor's                  N   \n",
       "5         EZYV06      Asia              Master's                  Y   \n",
       "...          ...       ...                   ...                ...   \n",
       "25475  EZYV25476      Asia            Bachelor's                  Y   \n",
       "25476  EZYV25477      Asia           High School                  Y   \n",
       "25477  EZYV25478      Asia              Master's                  Y   \n",
       "25478  EZYV25479      Asia              Master's                  Y   \n",
       "25479  EZYV25480      Asia            Bachelor's                  Y   \n",
       "\n",
       "      requires_job_training  no_of_employees  yr_of_estab  \\\n",
       "0                         N            14513         2007   \n",
       "1                         N             2412         2002   \n",
       "2                         Y            44444         2008   \n",
       "3                         N               98         1897   \n",
       "5                         N             2339         2012   \n",
       "...                     ...              ...          ...   \n",
       "25475                     Y             2601         2008   \n",
       "25476                     N             3274         2006   \n",
       "25477                     N             1121         1910   \n",
       "25478                     Y             1918         1887   \n",
       "25479                     N             3195         1960   \n",
       "\n",
       "      region_of_employment  prevailing_wage unit_of_wage full_time_position  \\\n",
       "0                     West         592.2029         Hour                  Y   \n",
       "1                Northeast       83425.6500         Year                  Y   \n",
       "2                     West      122996.8600         Year                  Y   \n",
       "3                     West       83434.0300         Year                  Y   \n",
       "5                    South       78252.1400         Year                  Y   \n",
       "...                    ...              ...          ...                ...   \n",
       "25475                South       77092.5700         Year                  Y   \n",
       "25476            Northeast      279174.7900         Year                  Y   \n",
       "25477                South      146298.8500         Year                  N   \n",
       "25478                 West       86154.7700         Year                  Y   \n",
       "25479              Midwest       70876.9100         Year                  Y   \n",
       "\n",
       "      case_status  \n",
       "0          Denied  \n",
       "1       Certified  \n",
       "2          Denied  \n",
       "3          Denied  \n",
       "5       Certified  \n",
       "...           ...  \n",
       "25475   Certified  \n",
       "25476   Certified  \n",
       "25477   Certified  \n",
       "25478   Certified  \n",
       "25479   Certified  \n",
       "\n",
       "[16861 rows x 12 columns]"
      ]
     },
     "execution_count": 70,
     "metadata": {},
     "output_type": "execute_result"
    }
   ],
   "source": [
    "# Here is the way to do it\n",
    "visa_df[visa_df['continent']=='Asia']"
   ]
  },
  {
   "cell_type": "code",
   "execution_count": 68,
   "id": "e130a74c-6d5b-4135-aa74-d34870913502",
   "metadata": {},
   "outputs": [
    {
     "data": {
      "text/plain": [
       "16861"
      ]
     },
     "execution_count": 68,
     "metadata": {},
     "output_type": "execute_result"
    }
   ],
   "source": [
    "len(visa_df[visa_df['continent']=='Asia'])"
   ]
  },
  {
   "cell_type": "code",
   "execution_count": null,
   "id": "6a8a0c98-5ba1-4070-b2a2-f4a2793b89f9",
   "metadata": {},
   "outputs": [],
   "source": [
    "visa_df                    # complete df\n",
    "visa_df['continent'] #    specific column\n",
    "visa_df['continent']=='Asia'  # one label\n",
    "visa_df[visa_df['continent']=='Asia']  # df\n",
    "len(visa_df[visa_df['continent']=='Asia'])  # len"
   ]
  },
  {
   "cell_type": "code",
   "execution_count": 74,
   "id": "87b2899f-3166-4ba2-8c56-ab2a4334dfc1",
   "metadata": {},
   "outputs": [
    {
     "name": "stdout",
     "output_type": "stream",
     "text": [
      "Asia : 16861\n",
      "Africa : 551\n",
      "North America : 3292\n",
      "Europe : 3732\n",
      "South America : 852\n",
      "Oceania : 192\n"
     ]
    }
   ],
   "source": [
    "continent=visa_df['continent'].unique()\n",
    "for i in continent:\n",
    "    count=(len(visa_df[visa_df['continent']==i]))\n",
    "    print(i,':',count)"
   ]
  },
  {
   "cell_type": "code",
   "execution_count": 76,
   "id": "f935847f-5763-478c-a59b-5e7d491b2f5e",
   "metadata": {},
   "outputs": [
    {
     "data": {
      "text/plain": [
       "[16861, 551, 3292, 3732, 852, 192]"
      ]
     },
     "execution_count": 76,
     "metadata": {},
     "output_type": "execute_result"
    }
   ],
   "source": [
    "count=[]\n",
    "continent=visa_df['continent'].unique()\n",
    "for i in continent:\n",
    "    c=(len(visa_df[visa_df['continent']==i]))\n",
    "    count.append(c)\n",
    "\n",
    "count"
   ]
  },
  {
   "cell_type": "code",
   "execution_count": 84,
   "id": "7467a467-5b61-47c3-b9b0-9f37d28ad56a",
   "metadata": {},
   "outputs": [],
   "source": [
    "continent=visa_df['continent'].unique()\n",
    "count=[len(visa_df[visa_df['continent']==i]) for i in continent]\n",
    "continent_df=pd.DataFrame(zip(continent,count),\n",
    "            columns=['continent','count'])\n",
    "continent_df.to_csv('continent_info.csv',index=False)\n",
    "# Create a data frame\n",
    "# continentt  count\n",
    "# asia  16861\n",
    "# Africa   551"
   ]
  },
  {
   "cell_type": "code",
   "execution_count": null,
   "id": "44fa7b23-4adc-4b22-9e09-ad631dd0ad19",
   "metadata": {},
   "outputs": [],
   "source": [
    "# ALL process\n",
    "\n",
    "visa_df                    # complete df\n",
    "visa_df['continent'] #    specific column\n",
    "visa_df['continent']=='Asia'  # one label\n",
    "visa_df[visa_df['continent']=='Asia']  # df\n",
    "len(visa_df[visa_df['continent']=='Asia'])  # len\n",
    "\n",
    "############################################################################\n",
    "\n",
    "continent=visa_df['continent'].unique()\n",
    "for i in continent:\n",
    "    count=(len(visa_df[visa_df['continent']==i]))\n",
    "    print(i,':',count)\n",
    "\n",
    "###############################################################################\n",
    "\n",
    "continent=visa_df['continent'].unique()\n",
    "count=[len(visa_df[visa_df['continent']==i]) for i in continent]\n",
    "continent_df=pd.DataFrame(zip(continent,count),\n",
    "            columns=['continent','count'])\n",
    "continent_df.to_csv('continent_info.csv',index=False)\n",
    "# Create a data frame\n",
    "# continentt  count\n",
    "# asia  16861\n",
    "# Africa   551\n"
   ]
  },
  {
   "cell_type": "markdown",
   "id": "764d06e5-6369-4159-9ea5-e80a747f3d7e",
   "metadata": {},
   "source": [
    "$ value-counts$"
   ]
  },
  {
   "cell_type": "code",
   "execution_count": 93,
   "id": "ab53423a-d24d-427b-baf7-08476cacb8ea",
   "metadata": {},
   "outputs": [
    {
     "data": {
      "text/plain": [
       "Asia             16861\n",
       "Africa             551\n",
       "North America     3292\n",
       "Europe            3732\n",
       "South America      852\n",
       "Oceania            192\n",
       "dtype: int64"
      ]
     },
     "execution_count": 93,
     "metadata": {},
     "output_type": "execute_result"
    }
   ],
   "source": [
    "pd.Series(count,index=continent)"
   ]
  },
  {
   "cell_type": "code",
   "execution_count": 97,
   "id": "b0cf68be-d6cf-4582-ac6f-3f8d8ed8a3a4",
   "metadata": {},
   "outputs": [
    {
     "data": {
      "text/plain": [
       "continent\n",
       "Asia             16861\n",
       "Europe            3732\n",
       "North America     3292\n",
       "South America      852\n",
       "Africa             551\n",
       "Oceania            192\n",
       "Name: count, dtype: int64"
      ]
     },
     "execution_count": 97,
     "metadata": {},
     "output_type": "execute_result"
    }
   ],
   "source": [
    "visa_df['continent'].value_counts()"
   ]
  },
  {
   "cell_type": "code",
   "execution_count": 99,
   "id": "a7c5c91a-a435-4033-8874-04ef802eba4e",
   "metadata": {},
   "outputs": [
    {
     "data": {
      "text/plain": [
       "continent\n",
       "Asia             16861\n",
       "Europe            3732\n",
       "North America     3292\n",
       "South America      852\n",
       "Africa             551\n",
       "Oceania            192\n",
       "Name: count, dtype: int64"
      ]
     },
     "execution_count": 99,
     "metadata": {},
     "output_type": "execute_result"
    }
   ],
   "source": [
    "# How to create a data frame using value counts\n",
    "# or by using series\n",
    "visa_df['continent'].value_counts()\n",
    "\n",
    "# in order to create a data frame\n",
    "# we need two list\n",
    "# or one dict\n",
    "\n",
    "\n",
    "# from value counts create two lists\n",
    "# index and keys"
   ]
  },
  {
   "cell_type": "code",
   "execution_count": 110,
   "id": "d719b707-4e56-4dc0-b417-4e3e713363fe",
   "metadata": {},
   "outputs": [
    {
     "data": {
      "text/html": [
       "<div>\n",
       "<style scoped>\n",
       "    .dataframe tbody tr th:only-of-type {\n",
       "        vertical-align: middle;\n",
       "    }\n",
       "\n",
       "    .dataframe tbody tr th {\n",
       "        vertical-align: top;\n",
       "    }\n",
       "\n",
       "    .dataframe thead th {\n",
       "        text-align: right;\n",
       "    }\n",
       "</style>\n",
       "<table border=\"1\" class=\"dataframe\">\n",
       "  <thead>\n",
       "    <tr style=\"text-align: right;\">\n",
       "      <th></th>\n",
       "      <th>continents</th>\n",
       "      <th>count</th>\n",
       "    </tr>\n",
       "  </thead>\n",
       "  <tbody>\n",
       "    <tr>\n",
       "      <th>0</th>\n",
       "      <td>Asia</td>\n",
       "      <td>16861</td>\n",
       "    </tr>\n",
       "    <tr>\n",
       "      <th>1</th>\n",
       "      <td>Europe</td>\n",
       "      <td>3732</td>\n",
       "    </tr>\n",
       "    <tr>\n",
       "      <th>2</th>\n",
       "      <td>North America</td>\n",
       "      <td>3292</td>\n",
       "    </tr>\n",
       "    <tr>\n",
       "      <th>3</th>\n",
       "      <td>South America</td>\n",
       "      <td>852</td>\n",
       "    </tr>\n",
       "    <tr>\n",
       "      <th>4</th>\n",
       "      <td>Africa</td>\n",
       "      <td>551</td>\n",
       "    </tr>\n",
       "    <tr>\n",
       "      <th>5</th>\n",
       "      <td>Oceania</td>\n",
       "      <td>192</td>\n",
       "    </tr>\n",
       "  </tbody>\n",
       "</table>\n",
       "</div>"
      ],
      "text/plain": [
       "      continents  count\n",
       "0           Asia  16861\n",
       "1         Europe   3732\n",
       "2  North America   3292\n",
       "3  South America    852\n",
       "4         Africa    551\n",
       "5        Oceania    192"
      ]
     },
     "execution_count": 110,
     "metadata": {},
     "output_type": "execute_result"
    }
   ],
   "source": [
    "continents=visa_df['continent'].value_counts().keys()\n",
    "count=visa_df['continent'].value_counts().values\n",
    "pd.DataFrame(zip(continents,count),columns=['continents','count'])"
   ]
  },
  {
   "cell_type": "code",
   "execution_count": 134,
   "id": "39015273-8577-4372-ae0a-9d884f8a04e2",
   "metadata": {},
   "outputs": [],
   "source": [
    "# Method 2\n",
    "dic1=dict(visa_df['continent'].value_counts())\n",
    "continents_df=pd.DataFrame(dic1,index=['continent'])"
   ]
  },
  {
   "cell_type": "code",
   "execution_count": 136,
   "id": "d77916ac-bde1-4c49-aa85-35a014fe78ac",
   "metadata": {},
   "outputs": [
    {
     "data": {
      "text/html": [
       "<div>\n",
       "<style scoped>\n",
       "    .dataframe tbody tr th:only-of-type {\n",
       "        vertical-align: middle;\n",
       "    }\n",
       "\n",
       "    .dataframe tbody tr th {\n",
       "        vertical-align: top;\n",
       "    }\n",
       "\n",
       "    .dataframe thead th {\n",
       "        text-align: right;\n",
       "    }\n",
       "</style>\n",
       "<table border=\"1\" class=\"dataframe\">\n",
       "  <thead>\n",
       "    <tr style=\"text-align: right;\">\n",
       "      <th></th>\n",
       "      <th>Asia</th>\n",
       "      <th>Europe</th>\n",
       "      <th>North America</th>\n",
       "      <th>South America</th>\n",
       "      <th>Africa</th>\n",
       "      <th>Oceania</th>\n",
       "    </tr>\n",
       "  </thead>\n",
       "  <tbody>\n",
       "    <tr>\n",
       "      <th>continent</th>\n",
       "      <td>16861</td>\n",
       "      <td>3732</td>\n",
       "      <td>3292</td>\n",
       "      <td>852</td>\n",
       "      <td>551</td>\n",
       "      <td>192</td>\n",
       "    </tr>\n",
       "  </tbody>\n",
       "</table>\n",
       "</div>"
      ],
      "text/plain": [
       "            Asia  Europe  North America  South America  Africa  Oceania\n",
       "continent  16861    3732           3292            852     551      192"
      ]
     },
     "execution_count": 136,
     "metadata": {},
     "output_type": "execute_result"
    }
   ],
   "source": [
    "continents_df\n",
    "\n",
    "# one column: categorical====> continents\n",
    "# another column: numerical=====> count"
   ]
  },
  {
   "cell_type": "markdown",
   "id": "9da2c4a8-065b-4f5f-af0a-366ddf3c76cc",
   "metadata": {},
   "source": [
    "$ bar-plot$"
   ]
  },
  {
   "cell_type": "markdown",
   "id": "c84cd83c-17db-4688-8e21-8e93554c0212",
   "metadata": {},
   "source": [
    "- bar plot\n",
    "\n",
    "- x-axis: categorical column\n",
    "- y-axis: numerical column\n",
    "- where are you taking the data: continent_df"
   ]
  },
  {
   "cell_type": "code",
   "execution_count": 141,
   "id": "6d443ad2-12c6-4675-b005-f766c97fed44",
   "metadata": {},
   "outputs": [
    {
     "data": {
      "text/html": [
       "<div>\n",
       "<style scoped>\n",
       "    .dataframe tbody tr th:only-of-type {\n",
       "        vertical-align: middle;\n",
       "    }\n",
       "\n",
       "    .dataframe tbody tr th {\n",
       "        vertical-align: top;\n",
       "    }\n",
       "\n",
       "    .dataframe thead th {\n",
       "        text-align: right;\n",
       "    }\n",
       "</style>\n",
       "<table border=\"1\" class=\"dataframe\">\n",
       "  <thead>\n",
       "    <tr style=\"text-align: right;\">\n",
       "      <th></th>\n",
       "      <th>Asia</th>\n",
       "      <th>Europe</th>\n",
       "      <th>North America</th>\n",
       "      <th>South America</th>\n",
       "      <th>Africa</th>\n",
       "      <th>Oceania</th>\n",
       "    </tr>\n",
       "  </thead>\n",
       "  <tbody>\n",
       "    <tr>\n",
       "      <th>continent</th>\n",
       "      <td>16861</td>\n",
       "      <td>3732</td>\n",
       "      <td>3292</td>\n",
       "      <td>852</td>\n",
       "      <td>551</td>\n",
       "      <td>192</td>\n",
       "    </tr>\n",
       "  </tbody>\n",
       "</table>\n",
       "</div>"
      ],
      "text/plain": [
       "            Asia  Europe  North America  South America  Africa  Oceania\n",
       "continent  16861    3732           3292            852     551      192"
      ]
     },
     "execution_count": 141,
     "metadata": {},
     "output_type": "execute_result"
    }
   ],
   "source": [
    "continents_df # This we take from the scratch so in random order\n",
    "\n",
    "# we should take from value counts"
   ]
  },
  {
   "cell_type": "code",
   "execution_count": 143,
   "id": "926d1f0a-5a77-4f42-82d8-9bef9fe2b78b",
   "metadata": {},
   "outputs": [
    {
     "data": {
      "text/html": [
       "<div>\n",
       "<style scoped>\n",
       "    .dataframe tbody tr th:only-of-type {\n",
       "        vertical-align: middle;\n",
       "    }\n",
       "\n",
       "    .dataframe tbody tr th {\n",
       "        vertical-align: top;\n",
       "    }\n",
       "\n",
       "    .dataframe thead th {\n",
       "        text-align: right;\n",
       "    }\n",
       "</style>\n",
       "<table border=\"1\" class=\"dataframe\">\n",
       "  <thead>\n",
       "    <tr style=\"text-align: right;\">\n",
       "      <th></th>\n",
       "      <th>continents</th>\n",
       "      <th>count</th>\n",
       "    </tr>\n",
       "  </thead>\n",
       "  <tbody>\n",
       "    <tr>\n",
       "      <th>0</th>\n",
       "      <td>Asia</td>\n",
       "      <td>16861</td>\n",
       "    </tr>\n",
       "    <tr>\n",
       "      <th>1</th>\n",
       "      <td>Europe</td>\n",
       "      <td>3732</td>\n",
       "    </tr>\n",
       "    <tr>\n",
       "      <th>2</th>\n",
       "      <td>North America</td>\n",
       "      <td>3292</td>\n",
       "    </tr>\n",
       "    <tr>\n",
       "      <th>3</th>\n",
       "      <td>South America</td>\n",
       "      <td>852</td>\n",
       "    </tr>\n",
       "    <tr>\n",
       "      <th>4</th>\n",
       "      <td>Africa</td>\n",
       "      <td>551</td>\n",
       "    </tr>\n",
       "    <tr>\n",
       "      <th>5</th>\n",
       "      <td>Oceania</td>\n",
       "      <td>192</td>\n",
       "    </tr>\n",
       "  </tbody>\n",
       "</table>\n",
       "</div>"
      ],
      "text/plain": [
       "      continents  count\n",
       "0           Asia  16861\n",
       "1         Europe   3732\n",
       "2  North America   3292\n",
       "3  South America    852\n",
       "4         Africa    551\n",
       "5        Oceania    192"
      ]
     },
     "execution_count": 143,
     "metadata": {},
     "output_type": "execute_result"
    }
   ],
   "source": [
    "continents=visa_df['continent'].value_counts().keys()\n",
    "count=visa_df['continent'].value_counts().values\n",
    "contint_df=pd.DataFrame(zip(continents,count),columns=['continents','count'])\n",
    "contint_df"
   ]
  },
  {
   "cell_type": "code",
   "execution_count": 162,
   "id": "8fdaf6c4-fca2-4f2d-af1e-a8eee2f9feac",
   "metadata": {},
   "outputs": [
    {
     "data": {
      "image/png": "[encoded data removed]",
      "text/plain": [
       "<Figure size 1000x500 with 1 Axes>"
      ]
     },
     "metadata": {},
     "output_type": "display_data"
    }
   ],
   "source": [
    "plt.figure(figsize=(10,5))\n",
    "plt.bar('continents',\n",
    "       'count',\n",
    "       data=contint_df)\n",
    "plt.title('Bar chart')\n",
    "plt.xlabel('continents')\n",
    "plt.ylabel('count')\n",
    "plt.savefig('continents_bar.jpg')\n",
    "plt.show()"
   ]
  },
  {
   "cell_type": "markdown",
   "id": "1800bbb7-9959-485e-8630-17646b46f032",
   "metadata": {},
   "source": [
    "- Reading a categorical column\n",
    "- unique\n",
    "- nunique\n",
    "- value counts\n",
    "- freq table(data frame)\n",
    "- barplot"
   ]
  },
  {
   "cell_type": "code",
   "execution_count": null,
   "id": "729e3964-19c0-4fa6-bd37-ed38c5925988",
   "metadata": {},
   "outputs": [],
   "source": [
    "# Bar plot using sea born"
   ]
  },
  {
   "cell_type": "code",
   "execution_count": null,
   "id": "920847db-a5e5-4052-8ea3-e82caee709eb",
   "metadata": {},
   "outputs": [],
   "source": [
    "# In order to draw bar chart we req frequency table\n",
    "# from the continent column we created onemore df having each label frequency\n",
    "# the above things are required if you want to draw a bar plot using matplotlib"
   ]
  },
  {
   "cell_type": "code",
   "execution_count": null,
   "id": "8fe807d4-ec34-46b4-a96b-f15712a6e34e",
   "metadata": {},
   "outputs": [],
   "source": [
    "# sea born will take directly original column from matplot lib\n",
    "# it requires 2 values\n",
    "# data: original dataframe:visa_df\n",
    "# x: original column name:'continent'"
   ]
  },
  {
   "cell_type": "markdown",
   "id": "cd30de98-8ed5-4003-86f5-10e312f0f5b5",
   "metadata": {},
   "source": [
    "- matplotlib bar chart requires 3 values\n",
    "\n",
    "- x-axis: categorical column\n",
    "\n",
    "- y-axis: numerical column\n",
    "\n",
    "- data name\n",
    "\n",
    "- from original data frame visadf, the original column is continent\n",
    "\n",
    "- we created another table which has label and its count"
   ]
  },
  {
   "cell_type": "code",
   "execution_count": 7,
   "id": "b5c2da37-eeff-4bce-8223-3c5b11d9207d",
   "metadata": {},
   "outputs": [
    {
     "data": {
      "text/plain": [
       "<Axes: xlabel='continent', ylabel='count'>"
      ]
     },
     "execution_count": 7,
     "metadata": {},
     "output_type": "execute_result"
    },
    {
     "data": {
      "image/png": "[encoded data removed]",
      "text/plain": [
       "<Figure size 640x480 with 1 Axes>"
      ]
     },
     "metadata": {},
     "output_type": "display_data"
    }
   ],
   "source": [
    "import seaborn as sns\n",
    "sns.countplot(data=visa_df,\n",
    "             x='continent')"
   ]
  },
  {
   "cell_type": "code",
   "execution_count": 20,
   "id": "94de46f0-d099-428a-83ce-b4e8b299cf9e",
   "metadata": {},
   "outputs": [
    {
     "data": {
      "text/plain": [
       "<Axes: xlabel='continent', ylabel='count'>"
      ]
     },
     "execution_count": 20,
     "metadata": {},
     "output_type": "execute_result"
    },
    {
     "data": {
      "image/png": "[encoded data removed]",
      "text/plain": [
       "<Figure size 640x480 with 1 Axes>"
      ]
     },
     "metadata": {},
     "output_type": "display_data"
    }
   ],
   "source": [
    "# In order provided by manually\n",
    "import seaborn as sns\n",
    "labels=['Asia','Europe','North America','South America','Africa','Oceania']\n",
    "sns.countplot(data=visa_df,\n",
    "             x='continent',\n",
    "             order=labels)"
   ]
  },
  {
   "cell_type": "code",
   "execution_count": 26,
   "id": "4d96926b-2977-491a-a760-b17328f683be",
   "metadata": {},
   "outputs": [
    {
     "data": {
      "image/png": "[encoded data removed]",
      "text/plain": [
       "<Figure size 1000x500 with 1 Axes>"
      ]
     },
     "metadata": {},
     "output_type": "display_data"
    }
   ],
   "source": [
    "# Order provided by python code\n",
    "import seaborn as sns\n",
    "plt.figure(figsize=(10,5))\n",
    "keys=visa_df['continent'].value_counts().keys()\n",
    "sns.countplot(data=visa_df,\n",
    "             x='continent',\n",
    "             order=keys)\n",
    "plt.title('Bar chart')\n",
    "plt.show()"
   ]
  },
  {
   "cell_type": "code",
   "execution_count": null,
   "id": "efb644f7-2f7a-4391-9ef9-aae2d30a54b5",
   "metadata": {},
   "outputs": [],
   "source": [
    "# Method-1: By using mat plot lib\n",
    "################################ Read the data ##################################\n",
    "file_path=\"C:\\\\Users\\\\pc\\\\Documents\\\\Visadataset.csv\"\n",
    "visa_df=pd.read_csv(file_path)\n",
    "\n",
    "##################### Create a freq table #########################\n",
    "continents=visa_df['continent'].value_counts().keys()\n",
    "count=visa_df['continent'].value_counts().values\n",
    "contint_df=pd.DataFrame(zip(continents,count),columns=['continents','count'])\n",
    "contint_df\n",
    "###############plot#######################################\n",
    "plt.figure(figsize=(10,5))\n",
    "plt.bar('continents',\n",
    "       'count',\n",
    "       data=contint_df)\n",
    "plt.title('Bar chart')\n",
    "plt.xlabel('continents')\n",
    "plt.ylabel('count')\n",
    "plt.savefig('continents_bar.jpg')\n",
    "plt.show()\n",
    "\n",
    "\n",
    "# Method-2: By using seaborn\n",
    "################################ plot #########################\n",
    "import seaborn as sns\n",
    "plt.figure(figsize=(10,5))\n",
    "keys=visa_df['continent'].value_counts().keys()\n",
    "sns.countplot(data=visa_df,\n",
    "             x='continent',\n",
    "             order=keys)\n",
    "plt.title('Bar chart')\n",
    "plt.show()"
   ]
  },
  {
   "cell_type": "code",
   "execution_count": 40,
   "id": "6ac92fd3-6589-405c-9071-1c342860667f",
   "metadata": {},
   "outputs": [
    {
     "data": {
      "image/png": "[encoded data removed]",
      "text/plain": [
       "<Figure size 640x480 with 1 Axes>"
      ]
     },
     "metadata": {},
     "output_type": "display_data"
    }
   ],
   "source": [
    "# Method-3: using value counts\n",
    "count=visa_df['continent'].value_counts()\n",
    "ax=count.plot(kind='bar') #ax=axes\n",
    "ax.bar_label(ax.containers[0])\n",
    "plt.show()"
   ]
  },
  {
   "cell_type": "markdown",
   "id": "93a392e6-0ef1-4351-8557-54f37f7da7ae",
   "metadata": {},
   "source": [
    "$pie chart$"
   ]
  },
  {
   "cell_type": "code",
   "execution_count": 51,
   "id": "02b85425-168d-4113-88b1-4041eaa91530",
   "metadata": {},
   "outputs": [
    {
     "data": {
      "text/html": [
       "<div>\n",
       "<style scoped>\n",
       "    .dataframe tbody tr th:only-of-type {\n",
       "        vertical-align: middle;\n",
       "    }\n",
       "\n",
       "    .dataframe tbody tr th {\n",
       "        vertical-align: top;\n",
       "    }\n",
       "\n",
       "    .dataframe thead th {\n",
       "        text-align: right;\n",
       "    }\n",
       "</style>\n",
       "<table border=\"1\" class=\"dataframe\">\n",
       "  <thead>\n",
       "    <tr style=\"text-align: right;\">\n",
       "      <th></th>\n",
       "      <th>continent</th>\n",
       "      <th>Relative frequency</th>\n",
       "    </tr>\n",
       "  </thead>\n",
       "  <tbody>\n",
       "    <tr>\n",
       "      <th>0</th>\n",
       "      <td>Asia</td>\n",
       "      <td>0.661735</td>\n",
       "    </tr>\n",
       "    <tr>\n",
       "      <th>1</th>\n",
       "      <td>Europe</td>\n",
       "      <td>0.146468</td>\n",
       "    </tr>\n",
       "    <tr>\n",
       "      <th>2</th>\n",
       "      <td>North America</td>\n",
       "      <td>0.129199</td>\n",
       "    </tr>\n",
       "    <tr>\n",
       "      <th>3</th>\n",
       "      <td>South America</td>\n",
       "      <td>0.033438</td>\n",
       "    </tr>\n",
       "    <tr>\n",
       "      <th>4</th>\n",
       "      <td>Africa</td>\n",
       "      <td>0.021625</td>\n",
       "    </tr>\n",
       "    <tr>\n",
       "      <th>5</th>\n",
       "      <td>Oceania</td>\n",
       "      <td>0.007535</td>\n",
       "    </tr>\n",
       "  </tbody>\n",
       "</table>\n",
       "</div>"
      ],
      "text/plain": [
       "       continent  Relative frequency\n",
       "0           Asia            0.661735\n",
       "1         Europe            0.146468\n",
       "2  North America            0.129199\n",
       "3  South America            0.033438\n",
       "4         Africa            0.021625\n",
       "5        Oceania            0.007535"
      ]
     },
     "execution_count": 51,
     "metadata": {},
     "output_type": "execute_result"
    }
   ],
   "source": [
    "keys=visa_df['continent'].value_counts(normalize=True).keys()\n",
    "values=visa_df['continent'].value_counts(normalize=True).values\n",
    "pd.DataFrame(zip(keys,values),\n",
    "             columns=['continent','Relative frequency'])\n"
   ]
  },
  {
   "cell_type": "code",
   "execution_count": 79,
   "id": "ed8768be-4943-499a-b945-100c20cb006c",
   "metadata": {},
   "outputs": [
    {
     "data": {
      "image/png": "[encoded data removed]",
      "text/plain": [
       "<Figure size 640x480 with 1 Axes>"
      ]
     },
     "metadata": {},
     "output_type": "display_data"
    }
   ],
   "source": [
    "plt.pie(x=values,\n",
    "        labels=keys,\n",
    "        autopct='%0.2f%%',     #66%  66.76\n",
    "        shadow=True,     # shows shadow\n",
    "        startangle=180,  # rotate it 180\n",
    "        radius=1,        # to make circle big and small\n",
    "        explode=[0.1,0.1,0.1,0.1,0.1,0.1])    # explodes into pieces\n",
    "\n",
    "plt.show()"
   ]
  },
  {
   "cell_type": "code",
   "execution_count": 94,
   "id": "c75fac28-1e5b-4307-9875-623b0169b3e0",
   "metadata": {},
   "outputs": [
    {
     "data": {
      "text/html": [
       "<div>\n",
       "<style scoped>\n",
       "    .dataframe tbody tr th:only-of-type {\n",
       "        vertical-align: middle;\n",
       "    }\n",
       "\n",
       "    .dataframe tbody tr th {\n",
       "        vertical-align: top;\n",
       "    }\n",
       "\n",
       "    .dataframe thead th {\n",
       "        text-align: right;\n",
       "    }\n",
       "</style>\n",
       "<table border=\"1\" class=\"dataframe\">\n",
       "  <thead>\n",
       "    <tr style=\"text-align: right;\">\n",
       "      <th></th>\n",
       "      <th>status</th>\n",
       "      <th>count</th>\n",
       "    </tr>\n",
       "  </thead>\n",
       "  <tbody>\n",
       "    <tr>\n",
       "      <th>0</th>\n",
       "      <td>Certified</td>\n",
       "      <td>17018</td>\n",
       "    </tr>\n",
       "    <tr>\n",
       "      <th>1</th>\n",
       "      <td>Denied</td>\n",
       "      <td>8462</td>\n",
       "    </tr>\n",
       "  </tbody>\n",
       "</table>\n",
       "</div>"
      ],
      "text/plain": [
       "      status  count\n",
       "0  Certified  17018\n",
       "1     Denied   8462"
      ]
     },
     "execution_count": 94,
     "metadata": {},
     "output_type": "execute_result"
    }
   ],
   "source": [
    "visa_df['case_status'].value_counts()\n",
    "keys=visa_df['case_status'].value_counts().keys()\n",
    "values=visa_df['case_status'].value_counts().values\n",
    "Nikesh=pd.DataFrame(zip(keys,values),columns=['status','count'])\n",
    "Nikesh"
   ]
  },
  {
   "cell_type": "code",
   "execution_count": 101,
   "id": "efe77508-cf0a-4393-996e-5cef6f6e7399",
   "metadata": {},
   "outputs": [
    {
     "data": {
      "text/plain": [
       "[Text(0, 0, '17018'), Text(0, 0, '8462')]"
      ]
     },
     "execution_count": 101,
     "metadata": {},
     "output_type": "execute_result"
    },
    {
     "data": {
      "image/png": "[encoded data removed]",
      "text/plain": [
       "<Figure size 640x480 with 1 Axes>"
      ]
     },
     "metadata": {},
     "output_type": "display_data"
    }
   ],
   "source": [
    "\n",
    "ax=Nikesh.plot(kind='bar')\n",
    "ax.bar_label(ax.containers[0])\n"
   ]
  },
  {
   "cell_type": "code",
   "execution_count": 107,
   "id": "8d34d154-2252-4432-b5bc-6360c37ac9c8",
   "metadata": {},
   "outputs": [
    {
     "data": {
      "text/html": [
       "<div>\n",
       "<style scoped>\n",
       "    .dataframe tbody tr th:only-of-type {\n",
       "        vertical-align: middle;\n",
       "    }\n",
       "\n",
       "    .dataframe tbody tr th {\n",
       "        vertical-align: top;\n",
       "    }\n",
       "\n",
       "    .dataframe thead th {\n",
       "        text-align: right;\n",
       "    }\n",
       "</style>\n",
       "<table border=\"1\" class=\"dataframe\">\n",
       "  <thead>\n",
       "    <tr style=\"text-align: right;\">\n",
       "      <th></th>\n",
       "      <th>status</th>\n",
       "      <th>count</th>\n",
       "    </tr>\n",
       "  </thead>\n",
       "  <tbody>\n",
       "    <tr>\n",
       "      <th>0</th>\n",
       "      <td>Certified</td>\n",
       "      <td>0.667896</td>\n",
       "    </tr>\n",
       "    <tr>\n",
       "      <th>1</th>\n",
       "      <td>Denied</td>\n",
       "      <td>0.332104</td>\n",
       "    </tr>\n",
       "  </tbody>\n",
       "</table>\n",
       "</div>"
      ],
      "text/plain": [
       "      status     count\n",
       "0  Certified  0.667896\n",
       "1     Denied  0.332104"
      ]
     },
     "execution_count": 107,
     "metadata": {},
     "output_type": "execute_result"
    }
   ],
   "source": [
    "visa_df['case_status'].value_counts()\n",
    "keys=visa_df['case_status'].value_counts(normalize=True).keys()\n",
    "values=visa_df['case_status'].value_counts(normalize=True).values\n",
    "Nikesh=pd.DataFrame(zip(keys,values),columns=['status','count'])\n",
    "Nikesh"
   ]
  },
  {
   "cell_type": "code",
   "execution_count": 125,
   "id": "bffe6cfa-9203-490f-a2a4-2df7184e0cb9",
   "metadata": {},
   "outputs": [
    {
     "data": {
      "text/plain": [
       "['case_id',\n",
       " 'continent',\n",
       " 'education_of_employee',\n",
       " 'has_job_experience',\n",
       " 'requires_job_training',\n",
       " 'region_of_employment',\n",
       " 'unit_of_wage',\n",
       " 'full_time_position',\n",
       " 'case_status']"
      ]
     },
     "execution_count": 125,
     "metadata": {},
     "output_type": "execute_result"
    }
   ],
   "source": [
    "data_types=dict(visa_df.dtypes)\n",
    "cat=[i for i in data_types if data_types[i]=='O']\n",
    "cat"
   ]
  },
  {
   "cell_type": "code",
   "execution_count": 137,
   "id": "82b44a1e-4f54-4777-a3ef-7fea364ccc0c",
   "metadata": {},
   "outputs": [
    {
     "name": "stdout",
     "output_type": "stream",
     "text": [
      "       continent  count\n",
      "0           Asia  16861\n",
      "1         Europe   3732\n",
      "2  North America   3292\n",
      "3  South America    852\n",
      "4         Africa    551\n",
      "5        Oceania    192\n",
      "  education_of_employee  count\n",
      "0            Bachelor's  10234\n",
      "1              Master's   9634\n",
      "2           High School   3420\n",
      "3             Doctorate   2192\n",
      "  has_job_experience  count\n",
      "0                  Y  14802\n",
      "1                  N  10678\n",
      "  requires_job_training  count\n",
      "0                     N  22525\n",
      "1                     Y   2955\n",
      "  region_of_employment  count\n",
      "0            Northeast   7195\n",
      "1                South   7017\n",
      "2                 West   6586\n",
      "3              Midwest   4307\n",
      "4               Island    375\n",
      "  unit_of_wage  count\n",
      "0         Year  22962\n",
      "1         Hour   2157\n",
      "2         Week    272\n",
      "3        Month     89\n",
      "  full_time_position  count\n",
      "0                  Y  22773\n",
      "1                  N   2707\n",
      "  case_status  count\n",
      "0   Certified  17018\n",
      "1      Denied   8462\n"
     ]
    }
   ],
   "source": [
    "data_types=dict(visa_df.dtypes)\n",
    "cat=[i for i in data_types if data_types[i]=='O']\n",
    "for i in cat[1:]:\n",
    "    visa_df[i].value_counts()\n",
    "    value1=visa_df[i].value_counts().keys()\n",
    "    value2=visa_df[i].value_counts().values\n",
    "    data=pd.DataFrame(zip(value1,value2),columns=[i,'count'])\n",
    "    print(data)\n",
    "    data.to_csv('{}.csv'.format(i))"
   ]
  },
  {
   "cell_type": "code",
   "execution_count": 141,
   "id": "f28d74fa-b632-4613-bdb5-baccf33de150",
   "metadata": {},
   "outputs": [
    {
     "data": {
      "text/plain": [
       "<Axes: >"
      ]
     },
     "execution_count": 141,
     "metadata": {},
     "output_type": "execute_result"
    },
    {
     "data": {
      "image/png": "[encoded data removed]",
      "text/plain": [
       "<Figure size 640x480 with 1 Axes>"
      ]
     },
     "metadata": {},
     "output_type": "display_data"
    }
   ],
   "source": [
    "plt.subplot(2,2,2)"
   ]
  },
  {
   "cell_type": "code",
   "execution_count": 149,
   "id": "9a34bbe0-65b0-4eae-aa15-8b842e2361e4",
   "metadata": {},
   "outputs": [
    {
     "data": {
      "text/plain": [
       "<Axes: >"
      ]
     },
     "execution_count": 149,
     "metadata": {},
     "output_type": "execute_result"
    },
    {
     "data": {
      "image/png": "[encoded data removed]",
      "text/plain": [
       "<Figure size 640x480 with 4 Axes>"
      ]
     },
     "metadata": {},
     "output_type": "display_data"
    }
   ],
   "source": [
    "plt.subplot(2,2,1)\n",
    "############ code ###############\n",
    "plt.subplot(2,2,2)\n",
    "############# code ###########\n",
    "plt.subplot(2,2,3)\n",
    "################ code #############\n",
    "plt.subplot(2,2,4)\n",
    "############ code #################"
   ]
  },
  {
   "cell_type": "code",
   "execution_count": null,
   "id": "cc4f2add-cdcf-48da-ba8c-c7af60934575",
   "metadata": {},
   "outputs": [],
   "source": []
  }
 ],
 "metadata": {
  "kernelspec": {
   "display_name": "Python 3 (ipykernel)",
   "language": "python",
   "name": "python3"
  },
  "language_info": {
   "codemirror_mode": {
    "name": "ipython",
    "version": 3
   },
   "file_extension": ".py",
   "mimetype": "text/x-python",
   "name": "python",
   "nbconvert_exporter": "python",
   "pygments_lexer": "ipython3",
   "version": "3.12.7"
  }
 },
 "nbformat": 4,
 "nbformat_minor": 5
}
